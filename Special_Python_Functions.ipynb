{
 "cells": [
  {
   "cell_type": "markdown",
   "metadata": {},
   "source": [
    "## **kwargs"
   ]
  },
  {
   "cell_type": "code",
   "execution_count": null,
   "metadata": {},
   "outputs": [],
   "source": []
  },
  {
   "cell_type": "markdown",
   "metadata": {},
   "source": [
    "## *args"
   ]
  },
  {
   "cell_type": "code",
   "execution_count": null,
   "metadata": {},
   "outputs": [],
   "source": []
  },
  {
   "cell_type": "markdown",
   "metadata": {
    "id": "tsV6GB5pfDDB"
   },
   "source": [
    "## super"
   ]
  },
  {
   "cell_type": "code",
   "execution_count": null,
   "metadata": {
    "id": "wJTeNLIgesGT"
   },
   "outputs": [],
   "source": [
    "# "
   ]
  },
  {
   "cell_type": "markdown",
   "metadata": {
    "id": "H6dkDnv2fIDP"
   },
   "source": [
    " ## yield"
   ]
  },
  {
   "cell_type": "code",
   "execution_count": null,
   "metadata": {
    "id": "pw_1tnAZfKAY"
   },
   "outputs": [],
   "source": []
  },
  {
   "cell_type": "markdown",
   "metadata": {
    "id": "KzwEOdntfKZh"
   },
   "source": [
    "## self"
   ]
  },
  {
   "cell_type": "code",
   "execution_count": null,
   "metadata": {
    "id": "YASN1pW-fMWv"
   },
   "outputs": [],
   "source": []
  },
  {
   "cell_type": "markdown",
   "metadata": {
    "id": "Q0dUVofnfMsC"
   },
   "source": [
    "## __init__"
   ]
  },
  {
   "cell_type": "code",
   "execution_count": null,
   "metadata": {
    "id": "uJLmQfbufPPQ"
   },
   "outputs": [],
   "source": []
  },
  {
   "cell_type": "markdown",
   "metadata": {
    "id": "EsjfqPqlfP2U"
   },
   "source": [
    "## __main__"
   ]
  },
  {
   "cell_type": "code",
   "execution_count": null,
   "metadata": {
    "id": "q_5b4qtkfSnL"
   },
   "outputs": [],
   "source": []
  },
  {
   "cell_type": "markdown",
   "metadata": {
    "id": "nhJsx1mefVD2"
   },
   "source": [
    "## is or =="
   ]
  },
  {
   "cell_type": "code",
   "execution_count": null,
   "metadata": {
    "id": "8o4NRv4dfUPV"
   },
   "outputs": [],
   "source": []
  },
  {
   "cell_type": "markdown",
   "metadata": {
    "id": "xYXzIYtdfX9O"
   },
   "source": [
    "## time module\n",
    "\n",
    "A method called time() in the time module in python, which can be used to get the current time.\n",
    "- Store the starting time before the first line of the program executes.\n",
    "- Store the ending time after the last line of the program executes.\n",
    "- The difference between ending time and starting time will be the running time of the program."
   ]
  },
  {
   "cell_type": "code",
   "execution_count": 2,
   "metadata": {
    "id": "BOFyiKSKfXZc"
   },
   "outputs": [
    {
     "name": "stdout",
     "output_type": "stream",
     "text": [
      "[0, 1, 2, 3, 4, 5, 6, 7, 8, 9]\n",
      "Runtime of the program is 1.0037353038787842\n"
     ]
    }
   ],
   "source": [
    "import time\n",
    "\n",
    "# starting time\n",
    "start = time.time()\n",
    "\n",
    "# program body starts\n",
    "listtem= []\n",
    "for i in range(10):\n",
    "    listtem.append(i)\n",
    "    \n",
    "print(listtem)\n",
    "\n",
    "# sleeping for 1 sec to get 10 sec runtime\n",
    "time.sleep(1)\n",
    "\n",
    "# program body ends\n",
    "\n",
    "# end time\n",
    "end = time.time()\n",
    "\n",
    "# total time taken\n",
    "print(f\"Runtime of the program is {end - start}\")"
   ]
  },
  {
   "cell_type": "markdown",
   "metadata": {},
   "source": [
    "## timeit module\n",
    "\n",
    "The timeit() method of the timeit module can also be used to calculate the execution time of any program in python. The timeit() method accepts four arguments. Let's see what are these arguments:\n",
    "- setup, which takes the code which runs before the execution of the main program, the default value is pass\n",
    "- stmt, is a statement which we want to execute.\n",
    "- timer, is a timeit.Timer object, we don't have to pass anything to this argument.\n",
    "- number, which is the number of times the statement will run."
   ]
  },
  {
   "cell_type": "code",
   "execution_count": 5,
   "metadata": {},
   "outputs": [
    {
     "name": "stdout",
     "output_type": "stream",
     "text": [
      "Execution time is: 0.005425382000794343\n"
     ]
    }
   ],
   "source": [
    "import timeit\n",
    "\n",
    "setup_code = \"from math import factorial\"\n",
    "\n",
    "statement = \"\"\"\n",
    "for i in range(10):\n",
    "    factorial(i)\n",
    "\"\"\"\n",
    "\n",
    "print(f\"Execution time is: {timeit.timeit(setup = setup_code, stmt = statement, number = 1000)}\")"
   ]
  },
  {
   "cell_type": "markdown",
   "metadata": {},
   "source": [
    "## Pydash: A Kitchen Sink of Missing Python Utilities\n",
    "\n",
    "- https://pydash.readthedocs.io/en/latest/index.html\n",
    "- https://towardsdatascience.com/pydash-a-bucket-of-missing-python-utilities-5d10365be4fc"
   ]
  },
  {
   "cell_type": "code",
   "execution_count": 10,
   "metadata": {},
   "outputs": [
    {
     "data": {
      "text/plain": [
       "2"
      ]
     },
     "execution_count": 10,
     "metadata": {},
     "output_type": "execute_result"
    }
   ],
   "source": [
    "#!pip install pydash\n",
    "\n",
    "from pydash import py_\n",
    "\n",
    "b = [[1, 2, [4, 5]], [6, 7]]\n",
    "py_.flatten_deep(b) \n",
    "# output -> [1, 2, 4, 5, 6, 7]\n",
    "\n",
    "a = [1, 2, 4, 5]\n",
    "py_.chunk(a,2) \n",
    "# output -> [[1], [2], [4], [5]] one by one chunk\n",
    "# output -> [[1, 2], [4, 5]] two by two chunks\n",
    "\n",
    "\n",
    "apple = {  \"price\": {\n",
    "        \"in_season\": {\"store\": {\"Walmart\": [2, 4], \"Aldi\": 1}},\n",
    "        \"out_of_season\": {\"store\": {\"Walmart\": [3, 5], \"Aldi\": 2}}, } }\n",
    "\n",
    "py_.omit(apple,\"in_season\")\n",
    "\n",
    "# traditional way -> apple[\"price\"][\"in_season\"][\"store\"][\"Walmart\"]\n",
    "py_.get(apple, \"price.in_season.store.Walmart[0]\")\n",
    "\n",
    "# contunie"
   ]
  },
  {
   "cell_type": "code",
   "execution_count": null,
   "metadata": {},
   "outputs": [],
   "source": []
  }
 ],
 "metadata": {
  "colab": {
   "collapsed_sections": [],
   "name": "Special_Python_Functions.ipynb",
   "provenance": []
  },
  "kernelspec": {
   "display_name": "Python 3",
   "language": "python",
   "name": "python3"
  },
  "language_info": {
   "codemirror_mode": {
    "name": "ipython",
    "version": 3
   },
   "file_extension": ".py",
   "mimetype": "text/x-python",
   "name": "python",
   "nbconvert_exporter": "python",
   "pygments_lexer": "ipython3",
   "version": "3.8.8"
  }
 },
 "nbformat": 4,
 "nbformat_minor": 1
}
