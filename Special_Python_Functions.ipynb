{
  "nbformat": 4,
  "nbformat_minor": 0,
  "metadata": {
    "colab": {
      "name": "Special_Python_Functions.ipynb",
      "provenance": [],
      "collapsed_sections": []
    },
    "kernelspec": {
      "name": "python3",
      "display_name": "Python 3"
    },
    "language_info": {
      "name": "python"
    }
  },
  "cells": [
    {
      "cell_type": "markdown",
      "metadata": {
        "id": "tsV6GB5pfDDB"
      },
      "source": [
        "## super"
      ]
    },
    {
      "cell_type": "code",
      "metadata": {
        "id": "wJTeNLIgesGT"
      },
      "source": [
        "# "
      ],
      "execution_count": null,
      "outputs": []
    },
    {
      "cell_type": "markdown",
      "metadata": {
        "id": "H6dkDnv2fIDP"
      },
      "source": [
        " ## yield"
      ]
    },
    {
      "cell_type": "code",
      "metadata": {
        "id": "pw_1tnAZfKAY"
      },
      "source": [
        ""
      ],
      "execution_count": null,
      "outputs": []
    },
    {
      "cell_type": "markdown",
      "metadata": {
        "id": "KzwEOdntfKZh"
      },
      "source": [
        "## self"
      ]
    },
    {
      "cell_type": "code",
      "metadata": {
        "id": "YASN1pW-fMWv"
      },
      "source": [
        ""
      ],
      "execution_count": null,
      "outputs": []
    },
    {
      "cell_type": "markdown",
      "metadata": {
        "id": "Q0dUVofnfMsC"
      },
      "source": [
        "## __init__"
      ]
    },
    {
      "cell_type": "code",
      "metadata": {
        "id": "uJLmQfbufPPQ"
      },
      "source": [
        ""
      ],
      "execution_count": null,
      "outputs": []
    },
    {
      "cell_type": "markdown",
      "metadata": {
        "id": "EsjfqPqlfP2U"
      },
      "source": [
        "## __main__"
      ]
    },
    {
      "cell_type": "code",
      "metadata": {
        "id": "q_5b4qtkfSnL"
      },
      "source": [
        ""
      ],
      "execution_count": null,
      "outputs": []
    },
    {
      "cell_type": "markdown",
      "metadata": {
        "id": "nhJsx1mefVD2"
      },
      "source": [
        "## is or =="
      ]
    },
    {
      "cell_type": "code",
      "metadata": {
        "id": "8o4NRv4dfUPV"
      },
      "source": [
        ""
      ],
      "execution_count": null,
      "outputs": []
    },
    {
      "cell_type": "markdown",
      "metadata": {
        "id": "xYXzIYtdfX9O"
      },
      "source": [
        "## X"
      ]
    },
    {
      "cell_type": "code",
      "metadata": {
        "id": "BOFyiKSKfXZc"
      },
      "source": [
        ""
      ],
      "execution_count": null,
      "outputs": []
    }
  ]
}